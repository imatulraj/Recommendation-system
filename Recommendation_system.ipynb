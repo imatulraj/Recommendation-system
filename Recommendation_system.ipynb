{
  "nbformat": 4,
  "nbformat_minor": 0,
  "metadata": {
    "colab": {
      "name": "Recommendation system",
      "provenance": [],
      "collapsed_sections": [],
      "mount_file_id": "14-UoUqZK4ejHH-UDvfRo0t-ij_XwKahc",
      "authorship_tag": "ABX9TyPARXQdpS2pT4qKS9PRKjF6",
      "include_colab_link": true
    },
    "kernelspec": {
      "name": "python3",
      "display_name": "Python 3"
    },
    "language_info": {
      "name": "python"
    }
  },
  "cells": [
    {
      "cell_type": "markdown",
      "metadata": {
        "id": "view-in-github",
        "colab_type": "text"
      },
      "source": [
        "<a href=\"https://colab.research.google.com/github/imatulraj/Recommendation-system/blob/master/Recommendation_system.ipynb\" target=\"_parent\"><img src=\"https://colab.research.google.com/assets/colab-badge.svg\" alt=\"Open In Colab\"/></a>"
      ]
    },
    {
      "cell_type": "code",
      "execution_count": null,
      "metadata": {
        "id": "dA0NPUypHEAG"
      },
      "outputs": [],
      "source": [
        ""
      ]
    },
    {
      "cell_type": "code",
      "source": [
        "from google.colab import drive\n",
        "drive.mount('/gdrive')\n",
        "%cd /gdrive"
      ],
      "metadata": {
        "colab": {
          "base_uri": "https://localhost:8080/"
        },
        "id": "XmySRHrhHQww",
        "outputId": "af2a33fd-6bb9-4a15-f819-8bf6e912fff9"
      },
      "execution_count": 1,
      "outputs": [
        {
          "output_type": "stream",
          "name": "stdout",
          "text": [
            "Mounted at /gdrive\n",
            "/gdrive\n"
          ]
        }
      ]
    },
    {
      "cell_type": "code",
      "source": [
        "from google.colab import drive\n",
        "drive.mount('/content/drive')"
      ],
      "metadata": {
        "colab": {
          "base_uri": "https://localhost:8080/"
        },
        "id": "kzgTkDlOHkeR",
        "outputId": "a836b6f7-4e50-42ca-89e9-cd2053656103"
      },
      "execution_count": 2,
      "outputs": [
        {
          "output_type": "stream",
          "name": "stdout",
          "text": [
            "Mounted at /content/drive\n"
          ]
        }
      ]
    },
    {
      "cell_type": "code",
      "source": [
        "import pandas as pd\n",
        "import numpy as np\n",
        "import matplotlib.pyplot as plt\n"
      ],
      "metadata": {
        "id": "H3rNlgOMIgA0"
      },
      "execution_count": 3,
      "outputs": []
    },
    {
      "cell_type": "code",
      "source": [
        "ratings = pd.read_csv('/content/drive/MyDrive/data/ratings.csv', sep='\\t', encoding='latin-1', usecols=['user_id','movie_id','rating'])"
      ],
      "metadata": {
        "id": "uywNqFMsJEjy"
      },
      "execution_count": 4,
      "outputs": []
    },
    {
      "cell_type": "code",
      "source": [
        "users = pd.read_csv('/content/drive/MyDrive/data (1)/userss.csv', sep='\\t', encoding='latin-1', names=['user_id','gender','zipcode','age_desc','occ_desc'])"
      ],
      "metadata": {
        "id": "TUhkUdCgSUtU"
      },
      "execution_count": 6,
      "outputs": []
    },
    {
      "cell_type": "code",
      "source": [
        "movies = pd.read_csv('/content/drive/MyDrive/data/movies.csv', sep='\\t',encoding='latin-1', usecols=['movie_id','title','genres'])"
      ],
      "metadata": {
        "id": "x9r-Prj6TFL2"
      },
      "execution_count": 7,
      "outputs": []
    },
    {
      "cell_type": "code",
      "source": [
        "genre_labels = set()\n",
        "for s in movies['genres'].str.split('|').values:\n",
        "    genre_labels = genre_labels.union(set(s))\n",
        "\n",
        "# Function that counts the number of times each of the genre keywords appear\n",
        "def count_word(dataset, ref_col, census):\n",
        "    keyword_count = dict()\n",
        "    for s in census: \n",
        "        keyword_count[s] = 0\n",
        "    for census_keywords in dataset[ref_col].str.split('|'):        \n",
        "        if type(census_keywords) == float and pd.isnull(census_keywords): \n",
        "            continue        \n",
        "        for s in [s for s in census_keywords if s in census]: \n",
        "            if pd.notnull(s): \n",
        "                keyword_count[s] += 1\n",
        "    #______________________________________________________________________\n",
        "    # convert the dictionary in a list to sort the keywords by frequency\n",
        "    keyword_occurences = []\n",
        "    for k,v in keyword_count.items():\n",
        "        keyword_occurences.append([k,v])\n",
        "    keyword_occurences.sort(key = lambda x:x[1], reverse = True)\n",
        "    return keyword_occurences, keyword_count\n",
        "\n",
        "# Calling this function gives access to a list of genre keywords which are sorted by decreasing frequency\n",
        "keyword_occurences, dum = count_word(movies, 'genres', genre_labels)\n",
        "keyword_occurences[:5]"
      ],
      "metadata": {
        "colab": {
          "base_uri": "https://localhost:8080/"
        },
        "id": "yzSGnKzbTdxL",
        "outputId": "18dbbaca-7b88-4424-ecbb-3bfeb0aff4bf"
      },
      "execution_count": 8,
      "outputs": [
        {
          "output_type": "execute_result",
          "data": {
            "text/plain": [
              "[['Drama', 1603],\n",
              " ['Comedy', 1200],\n",
              " ['Action', 503],\n",
              " ['Thriller', 492],\n",
              " ['Romance', 471]]"
            ]
          },
          "metadata": {},
          "execution_count": 8
        }
      ]
    },
    {
      "cell_type": "code",
      "source": [
        "# Break up the big genre string into a string array\n",
        "movies['genres'] = movies['genres'].str.split('|')\n",
        "# Convert genres to string value\n",
        "movies['genres'] = movies['genres'].fillna(\"\").astype('str')"
      ],
      "metadata": {
        "id": "qhyFQ5chT8Y7"
      },
      "execution_count": 9,
      "outputs": []
    },
    {
      "cell_type": "code",
      "source": [
        "from sklearn.feature_extraction.text import TfidfVectorizer\n",
        "tf = TfidfVectorizer(analyzer='word',ngram_range=(1, 2),min_df=0, stop_words='english')\n",
        "tfidf_matrix = tf.fit_transform(movies['genres'])\n",
        "tfidf_matrix"
      ],
      "metadata": {
        "colab": {
          "base_uri": "https://localhost:8080/"
        },
        "id": "wS8Yu8YMT_ot",
        "outputId": "c4d1dd6a-f4a0-4977-f000-f3f4e098ffc0"
      },
      "execution_count": 10,
      "outputs": [
        {
          "output_type": "execute_result",
          "data": {
            "text/plain": [
              "<3883x127 sparse matrix of type '<class 'numpy.float64'>'\n",
              "\twith 9573 stored elements in Compressed Sparse Row format>"
            ]
          },
          "metadata": {},
          "execution_count": 10
        }
      ]
    },
    {
      "cell_type": "code",
      "source": [
        "from sklearn.metrics.pairwise import linear_kernel\n",
        "cosine_sim = linear_kernel(tfidf_matrix, tfidf_matrix)\n",
        "cosine_sim[:4, :4]"
      ],
      "metadata": {
        "colab": {
          "base_uri": "https://localhost:8080/"
        },
        "id": "j8gtMeVjUEj6",
        "outputId": "ddc69eea-0289-40cd-aa4c-6f09f29965ce"
      },
      "execution_count": 11,
      "outputs": [
        {
          "output_type": "execute_result",
          "data": {
            "text/plain": [
              "array([[1.        , 0.14193614, 0.09010857, 0.1056164 ],\n",
              "       [0.14193614, 1.        , 0.        , 0.        ],\n",
              "       [0.09010857, 0.        , 1.        , 0.1719888 ],\n",
              "       [0.1056164 , 0.        , 0.1719888 , 1.        ]])"
            ]
          },
          "metadata": {},
          "execution_count": 11
        }
      ]
    },
    {
      "cell_type": "code",
      "source": [
        "# Build a 1-dimensional array with movie titles\n",
        "titles = movies['title']\n",
        "indices = pd.Series(movies.index, index=movies['title'])"
      ],
      "metadata": {
        "id": "V7zqSHM_UJjQ"
      },
      "execution_count": 13,
      "outputs": []
    },
    {
      "cell_type": "code",
      "source": [
        "# Function that get movie recommendations based on the cosine similarity score of movie genres\n",
        "def genre_recommendations(title):\n",
        "    idx = indices[title]\n",
        "    sim_scores = list(enumerate(cosine_sim[idx]))\n",
        "    sim_scores = sorted(sim_scores, key=lambda x: x[1], reverse=True)\n",
        "    sim_scores = sim_scores[1:21]\n",
        "    movie_indices = [i[0] for i in sim_scores]\n",
        "    return titles.iloc[movie_indices]"
      ],
      "metadata": {
        "id": "d454cMnCUQ8O"
      },
      "execution_count": 14,
      "outputs": []
    },
    {
      "cell_type": "code",
      "source": [
        "genre_recommendations('Heat (1995)').head(10)"
      ],
      "metadata": {
        "colab": {
          "base_uri": "https://localhost:8080/"
        },
        "id": "J-b4x70uUV8A",
        "outputId": "a172b774-15c0-4429-a6c5-06203063fce6"
      },
      "execution_count": 15,
      "outputs": [
        {
          "output_type": "execute_result",
          "data": {
            "text/plain": [
              "168                      Hackers (1995)\n",
              "2209                       Ronin (1998)\n",
              "2887    Someone to Watch Over Me (1987)\n",
              "3694                         F/X (1986)\n",
              "3695                       F/X 2 (1992)\n",
              "46                 Seven (Se7en) (1995)\n",
              "49           Usual Suspects, The (1995)\n",
              "517            Romeo Is Bleeding (1993)\n",
              "653                  Purple Noon (1960)\n",
              "1073              Reservoir Dogs (1992)\n",
              "Name: title, dtype: object"
            ]
          },
          "metadata": {},
          "execution_count": 15
        }
      ]
    }
  ]
}